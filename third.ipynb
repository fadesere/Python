{
 "cells": [
  {
   "cell_type": "code",
   "execution_count": 1,
   "metadata": {},
   "outputs": [
    {
     "name": "stdout",
     "output_type": "stream",
     "text": [
      "Current Working Directory is:  c:\\Users\\ok\\Desktop\\Python\n",
      "New working directory is:  C:\\Users\\ok\\Desktop\\Python\n"
     ]
    }
   ],
   "source": [
    "# change woring directory %%\n",
    "import os\n",
    "cwd = os.getcwd()\n",
    "print('Current Working Directory is: ', cwd)\n",
    "absolute_path = 'C:/Users/ok/Desktop/Python'\n",
    "os.chdir(absolute_path)\n",
    "print('New working directory is: ', os.getcwd())"
   ]
  },
  {
   "cell_type": "code",
   "execution_count": 2,
   "metadata": {},
   "outputs": [],
   "source": [
    "# import panda %%\n",
    "import pandas as pd"
   ]
  },
  {
   "cell_type": "code",
   "execution_count": 3,
   "metadata": {},
   "outputs": [],
   "source": [
    "# import csv file %%\n",
    "data = pd.read_csv('202009-citibike-tripdata.csv')"
   ]
  },
  {
   "cell_type": "code",
   "execution_count": null,
   "metadata": {},
   "outputs": [],
   "source": [
    "# check first five row in table\n",
    "data.head()"
   ]
  },
  {
   "cell_type": "code",
   "execution_count": 5,
   "metadata": {},
   "outputs": [
    {
     "name": "stdout",
     "output_type": "stream",
     "text": [
      "tripduration                 16100\n",
      "starttime                  2486365\n",
      "stoptime                   2486193\n",
      "start station id              1087\n",
      "start station name            1087\n",
      "start station latitude        1087\n",
      "start station longitude       1085\n",
      "end station id                1112\n",
      "end station name              1112\n",
      "end station latitude          1112\n",
      "end station longitude         1110\n",
      "bikeid                       18283\n",
      "usertype                         2\n",
      "birth year                     109\n",
      "gender                           3\n",
      "dtype: int64\n"
     ]
    }
   ],
   "source": [
    "#count distinct values in all variables\n",
    "print(data.nunique())"
   ]
  },
  {
   "cell_type": "code",
   "execution_count": 7,
   "metadata": {},
   "outputs": [
    {
     "name": "stdout",
     "output_type": "stream",
     "text": [
      "<class 'pandas.core.frame.DataFrame'>\n",
      "RangeIndex: 2488225 entries, 0 to 2488224\n",
      "Data columns (total 15 columns):\n",
      " #   Column                   Dtype  \n",
      "---  ------                   -----  \n",
      " 0   tripduration             int64  \n",
      " 1   starttime                object \n",
      " 2   stoptime                 object \n",
      " 3   start station id         int64  \n",
      " 4   start station name       object \n",
      " 5   start station latitude   float64\n",
      " 6   start station longitude  float64\n",
      " 7   end station id           int64  \n",
      " 8   end station name         object \n",
      " 9   end station latitude     float64\n",
      " 10  end station longitude    float64\n",
      " 11  bikeid                   int64  \n",
      " 12  usertype                 object \n",
      " 13  birth year               int64  \n",
      " 14  gender                   int64  \n",
      "dtypes: float64(4), int64(6), object(5)\n",
      "memory usage: 284.8+ MB\n"
     ]
    }
   ],
   "source": [
    "#info to check what's in your dataframe\n",
    "data.info()"
   ]
  }
 ],
 "metadata": {
  "interpreter": {
   "hash": "a4fe648169c5c363700e0c48d15faee8703852dfedf105ef5e12d84c115904fd"
  },
  "kernelspec": {
   "display_name": "Python 3.9.7 ('base')",
   "language": "python",
   "name": "python3"
  },
  "language_info": {
   "codemirror_mode": {
    "name": "ipython",
    "version": 3
   },
   "file_extension": ".py",
   "mimetype": "text/x-python",
   "name": "python",
   "nbconvert_exporter": "python",
   "pygments_lexer": "ipython3",
   "version": "3.9.7"
  },
  "orig_nbformat": 4
 },
 "nbformat": 4,
 "nbformat_minor": 2
}
