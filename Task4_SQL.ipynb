{
 "cells": [
  {
   "cell_type": "code",
   "execution_count": 1,
   "metadata": {},
   "outputs": [],
   "source": [
    "# Connecting to MicrosoftSql Server\n",
    "import pandas as pd\n",
    "import pyodbc\n",
    "sql_conn = pyodbc.connect('DRIVER={ODBC Driver 17 for SQL Server};SERVER=TOLUWANIMI\\TOLUSQLSERVER; DATABASE=AdventureWorksDW2017; Trusted_Connection=yes')"
   ]
  },
  {
   "cell_type": "code",
   "execution_count": null,
   "metadata": {},
   "outputs": [],
   "source": [
    "# Importing from database in sql\n",
    "query = \"SELECT * FROM DimCustomer;\"\n",
    "my_data = pd.read_sql(query, sql_conn)\n",
    "my_data.head()\n"
   ]
  },
  {
   "cell_type": "code",
   "execution_count": 3,
   "metadata": {},
   "outputs": [
    {
     "name": "stdout",
     "output_type": "stream",
     "text": [
      "<class 'pandas.core.frame.DataFrame'>\n",
      "RangeIndex: 18484 entries, 0 to 18483\n",
      "Data columns (total 29 columns):\n",
      " #   Column                Non-Null Count  Dtype  \n",
      "---  ------                --------------  -----  \n",
      " 0   CustomerKey           18484 non-null  int64  \n",
      " 1   GeographyKey          18484 non-null  int64  \n",
      " 2   CustomerAlternateKey  18484 non-null  object \n",
      " 3   Title                 101 non-null    object \n",
      " 4   FirstName             18484 non-null  object \n",
      " 5   MiddleName            10654 non-null  object \n",
      " 6   LastName              18484 non-null  object \n",
      " 7   NameStyle             18484 non-null  bool   \n",
      " 8   BirthDate             18484 non-null  object \n",
      " 9   MaritalStatus         18484 non-null  object \n",
      " 10  Suffix                3 non-null      object \n",
      " 11  Gender                18484 non-null  object \n",
      " 12  EmailAddress          18484 non-null  object \n",
      " 13  YearlyIncome          18484 non-null  float64\n",
      " 14  TotalChildren         18484 non-null  int64  \n",
      " 15  NumberChildrenAtHome  18484 non-null  int64  \n",
      " 16  EnglishEducation      18484 non-null  object \n",
      " 17  SpanishEducation      18484 non-null  object \n",
      " 18  FrenchEducation       18484 non-null  object \n",
      " 19  EnglishOccupation     18484 non-null  object \n",
      " 20  SpanishOccupation     18484 non-null  object \n",
      " 21  FrenchOccupation      18484 non-null  object \n",
      " 22  HouseOwnerFlag        18484 non-null  object \n",
      " 23  NumberCarsOwned       18484 non-null  int64  \n",
      " 24  AddressLine1          18484 non-null  object \n",
      " 25  AddressLine2          312 non-null    object \n",
      " 26  Phone                 18484 non-null  object \n",
      " 27  DateFirstPurchase     18484 non-null  object \n",
      " 28  CommuteDistance       18484 non-null  object \n",
      "dtypes: bool(1), float64(1), int64(5), object(22)\n",
      "memory usage: 4.0+ MB\n"
     ]
    }
   ],
   "source": [
    "my_data.info()"
   ]
  },
  {
   "cell_type": "code",
   "execution_count": null,
   "metadata": {},
   "outputs": [],
   "source": [
    "# count for unique in variables\n",
    "print(my_data.nunique())"
   ]
  },
  {
   "cell_type": "code",
   "execution_count": 6,
   "metadata": {},
   "outputs": [
    {
     "name": "stdout",
     "output_type": "stream",
     "text": [
      "M    10011\n",
      "S     8473\n",
      "Name: MaritalStatus, dtype: int64\n"
     ]
    }
   ],
   "source": [
    "# print distinct values in particular column %%\n",
    "print(my_data['MaritalStatus'].value_counts())"
   ]
  },
  {
   "cell_type": "code",
   "execution_count": 11,
   "metadata": {},
   "outputs": [
    {
     "data": {
      "text/plain": [
       "count     18484.000000\n",
       "mean      64005.431725\n",
       "std       35713.927735\n",
       "min       11000.000000\n",
       "25%       33000.000000\n",
       "50%       66000.000000\n",
       "75%       79200.000000\n",
       "max      211200.000000\n",
       "Name: YearlyIncome, dtype: float64"
      ]
     },
     "execution_count": 11,
     "metadata": {},
     "output_type": "execute_result"
    }
   ],
   "source": [
    "# describing a particular non string varible\n",
    "my_data['YearlyIncome'].describe()"
   ]
  },
  {
   "cell_type": "code",
   "execution_count": 13,
   "metadata": {},
   "outputs": [
    {
     "data": {
      "text/html": [
       "<div>\n",
       "<style scoped>\n",
       "    .dataframe tbody tr th:only-of-type {\n",
       "        vertical-align: middle;\n",
       "    }\n",
       "\n",
       "    .dataframe tbody tr th {\n",
       "        vertical-align: top;\n",
       "    }\n",
       "\n",
       "    .dataframe thead th {\n",
       "        text-align: right;\n",
       "    }\n",
       "</style>\n",
       "<table border=\"1\" class=\"dataframe\">\n",
       "  <thead>\n",
       "    <tr style=\"text-align: right;\">\n",
       "      <th></th>\n",
       "      <th>MaritalStatus</th>\n",
       "      <th>YearlyIncome</th>\n",
       "      <th>NumberChildrenAtHome</th>\n",
       "    </tr>\n",
       "  </thead>\n",
       "  <tbody>\n",
       "    <tr>\n",
       "      <th>0</th>\n",
       "      <td>M</td>\n",
       "      <td>99000.0</td>\n",
       "      <td>0</td>\n",
       "    </tr>\n",
       "    <tr>\n",
       "      <th>1</th>\n",
       "      <td>S</td>\n",
       "      <td>66000.0</td>\n",
       "      <td>3</td>\n",
       "    </tr>\n",
       "    <tr>\n",
       "      <th>2</th>\n",
       "      <td>M</td>\n",
       "      <td>66000.0</td>\n",
       "      <td>3</td>\n",
       "    </tr>\n",
       "    <tr>\n",
       "      <th>3</th>\n",
       "      <td>S</td>\n",
       "      <td>77000.0</td>\n",
       "      <td>0</td>\n",
       "    </tr>\n",
       "    <tr>\n",
       "      <th>4</th>\n",
       "      <td>S</td>\n",
       "      <td>88000.0</td>\n",
       "      <td>5</td>\n",
       "    </tr>\n",
       "  </tbody>\n",
       "</table>\n",
       "</div>"
      ],
      "text/plain": [
       "  MaritalStatus  YearlyIncome  NumberChildrenAtHome\n",
       "0             M       99000.0                     0\n",
       "1             S       66000.0                     3\n",
       "2             M       66000.0                     3\n",
       "3             S       77000.0                     0\n",
       "4             S       88000.0                     5"
      ]
     },
     "execution_count": 13,
     "metadata": {},
     "output_type": "execute_result"
    }
   ],
   "source": [
    "#filtering Variables\n",
    "my_data2 = my_data[['MaritalStatus','YearlyIncome','NumberChildrenAtHome']]\n",
    "my_data2.head()"
   ]
  }
 ],
 "metadata": {
  "interpreter": {
   "hash": "a4fe648169c5c363700e0c48d15faee8703852dfedf105ef5e12d84c115904fd"
  },
  "kernelspec": {
   "display_name": "Python 3.9.7 ('base')",
   "language": "python",
   "name": "python3"
  },
  "language_info": {
   "codemirror_mode": {
    "name": "ipython",
    "version": 3
   },
   "file_extension": ".py",
   "mimetype": "text/x-python",
   "name": "python",
   "nbconvert_exporter": "python",
   "pygments_lexer": "ipython3",
   "version": "3.9.7"
  },
  "orig_nbformat": 4
 },
 "nbformat": 4,
 "nbformat_minor": 2
}
