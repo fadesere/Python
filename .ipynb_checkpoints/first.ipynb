{
 "cells": [
  {
   "cell_type": "code",
   "execution_count": 1,
   "metadata": {},
   "outputs": [
    {
     "name": "stdout",
     "output_type": "stream",
     "text": [
      "Current Working Directory is:  C:\\Users\\ok\\AppData\\Local\\Programs\\Microsoft VS Code\n",
      "New working directory is:  C:\\Users\\ok\\Desktop\\Python\n"
     ]
    }
   ],
   "source": [
    "import os\n",
    "cwd = os.getcwd()\n",
    "print('Current Working Directory is: ', cwd)\n",
    "absolute_path = 'C:/Users/ok/Desktop/Python'\n",
    "os.chdir(absolute_path)\n",
    "print('New working directory is: ', os.getcwd())"
   ]
  },
  {
   "cell_type": "code",
   "execution_count": 2,
   "metadata": {},
   "outputs": [],
   "source": [
    "import pandas as pd"
   ]
  },
  {
   "cell_type": "code",
   "execution_count": 4,
   "metadata": {},
   "outputs": [],
   "source": [
    "data = pd.read_csv('202009-citibike-tripdata.csv')"
   ]
  },
  {
   "cell_type": "code",
   "execution_count": null,
   "metadata": {},
   "outputs": [],
   "source": [
    "data"
   ]
  },
  {
   "cell_type": "code",
   "execution_count": 8,
   "metadata": {},
   "outputs": [
    {
     "name": "stdout",
     "output_type": "stream",
     "text": [
      "tripduration                 16100\n",
      "starttime                  2486365\n",
      "stoptime                   2486193\n",
      "start station id              1087\n",
      "start station name            1087\n",
      "start station latitude        1087\n",
      "start station longitude       1085\n",
      "end station id                1112\n",
      "end station name              1112\n",
      "end station latitude          1112\n",
      "end station longitude         1110\n",
      "bikeid                       18283\n",
      "usertype                         2\n",
      "birth year                     109\n",
      "gender                           3\n",
      "dtype: int64\n"
     ]
    }
   ],
   "source": [
    "print(data.nunique())"
   ]
  }
 ],
 "metadata": {
  "interpreter": {
   "hash": "a4fe648169c5c363700e0c48d15faee8703852dfedf105ef5e12d84c115904fd"
  },
  "kernelspec": {
   "display_name": "Python 3.9.7 ('base')",
   "language": "python",
   "name": "python3"
  },
  "language_info": {
   "codemirror_mode": {
    "name": "ipython",
    "version": 3
   },
   "file_extension": ".py",
   "mimetype": "text/x-python",
   "name": "python",
   "nbconvert_exporter": "python",
   "pygments_lexer": "ipython3",
   "version": "3.9.7"
  },
  "orig_nbformat": 4
 },
 "nbformat": 4,
 "nbformat_minor": 2
}
